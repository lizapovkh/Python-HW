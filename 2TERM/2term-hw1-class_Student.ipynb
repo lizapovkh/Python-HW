{
 "cells": [
  {
   "cell_type": "markdown",
   "id": "04230e4d",
   "metadata": {},
   "source": [
    "Модуль для заданий"
   ]
  },
  {
   "cell_type": "code",
   "execution_count": 42,
   "id": "9374279e",
   "metadata": {},
   "outputs": [],
   "source": [
    "class Student():\n",
    "    def __init__(self, name, lname, age, gender, ind):\n",
    "        self.name=name\n",
    "        self.lname=lname\n",
    "        self.age=age\n",
    "        self.gender= gender\n",
    "        self.ind=ind\n",
    "student1= Student('David', 'Brown', 17, 'm', 1044)\n",
    "student2= Student('Amy','Lee', 18, 'w', 1109)\n",
    "student3= Student('Antonie','Kidies', 23, 'm ', 1908)\n",
    "student4= Student('Matthew','Bellamy', 18, 'm', 8777)\n",
    "student5= Student('David','Usher', 19, 'm', 4126)\n",
    "students=[student1, student2, student3, student4, student5]"
   ]
  },
  {
   "cell_type": "markdown",
   "id": "22bde4b9",
   "metadata": {},
   "source": [
    "1 задание"
   ]
  },
  {
   "cell_type": "code",
   "execution_count": 29,
   "id": "0d30d4c8",
   "metadata": {},
   "outputs": [
    {
     "name": "stdout",
     "output_type": "stream",
     "text": [
      "David Brown\n",
      "Amy Lee\n",
      "Antonie Kidies\n",
      "Matthew Bellamy\n",
      "David Usher\n"
     ]
    }
   ],
   "source": [
    "for l in range(len(students)):\n",
    "    print(students[l].name, students[l].lname)"
   ]
  },
  {
   "cell_type": "markdown",
   "id": "6f04fb30",
   "metadata": {},
   "source": [
    "2 задание"
   ]
  },
  {
   "cell_type": "code",
   "execution_count": 43,
   "id": "26f41757",
   "metadata": {},
   "outputs": [
    {
     "name": "stdout",
     "output_type": "stream",
     "text": [
      "[17, 18, 18, 19, 23]\n"
     ]
    }
   ],
   "source": [
    "a=[]\n",
    "for k in range(len(students)):\n",
    "    a.append(students[k].age)\n",
    "for i in range(len(a)-1):\n",
    "    for j in range(len(a)-i-1):\n",
    "        if a[j]>a[j+1]:\n",
    "            a[j], a[j+1]=a[j+1], a[j]\n",
    "print(a)"
   ]
  },
  {
   "cell_type": "markdown",
   "id": "5a424306",
   "metadata": {},
   "source": [
    "3 задание"
   ]
  },
  {
   "cell_type": "code",
   "execution_count": 44,
   "id": "79fc7035",
   "metadata": {},
   "outputs": [
    {
     "name": "stdout",
     "output_type": "stream",
     "text": [
      "19\n",
      "Matthew Bellamy\n"
     ]
    }
   ],
   "source": [
    "def bin(a, x):\n",
    "    left=0\n",
    "    right=len(a)-1\n",
    "    while left<=right:\n",
    "        middle= (left+right)//2\n",
    "        if x==a[middle]:\n",
    "            return middle\n",
    "        elif x>a[middle]:\n",
    "            left=middle+1\n",
    "        elif x<a[middle]:\n",
    "            right=middle-1\n",
    "    return -1\n",
    "x=int(input())\n",
    "result= bin(a, x)\n",
    "if result==-1:\n",
    "    print('element ne naiden')\n",
    "else:\n",
    "    print(students[result].name, students[result].lname)"
   ]
  },
  {
   "cell_type": "markdown",
   "id": "e43a8cfa",
   "metadata": {},
   "source": [
    "4 задание"
   ]
  },
  {
   "cell_type": "markdown",
   "id": "47192fb8",
   "metadata": {},
   "source": [
    "Бинарный поиск в стандартном виде выдаст значение, которое попадет в середину"
   ]
  },
  {
   "cell_type": "code",
   "execution_count": 46,
   "id": "6e4ea5c6",
   "metadata": {},
   "outputs": [
    {
     "name": "stdout",
     "output_type": "stream",
     "text": [
      "18\n",
      "Amy Lee\n"
     ]
    }
   ],
   "source": [
    "def bin(a, x):\n",
    "    left=0\n",
    "    right=len(a)-1\n",
    "    while left<=right:\n",
    "        middle= (left+right)//2\n",
    "        if x>a[middle]:\n",
    "            left=middle+1\n",
    "        else:\n",
    "            right=middle-1\n",
    "    if a[left]==x:\n",
    "        return left\n",
    "    return -1\n",
    "\n",
    "x=int(input())\n",
    "result= bin(a, x)\n",
    "if result==-1:\n",
    "    print('studenta takogo vozrasta net')\n",
    "else:\n",
    "    print(students[result].name, students[result].lname)"
   ]
  },
  {
   "cell_type": "code",
   "execution_count": null,
   "id": "70a7495d",
   "metadata": {},
   "outputs": [],
   "source": []
  }
 ],
 "metadata": {
  "kernelspec": {
   "display_name": "Python 3",
   "language": "python",
   "name": "python3"
  },
  "language_info": {
   "codemirror_mode": {
    "name": "ipython",
    "version": 3
   },
   "file_extension": ".py",
   "mimetype": "text/x-python",
   "name": "python",
   "nbconvert_exporter": "python",
   "pygments_lexer": "ipython3",
   "version": "3.8.8"
  }
 },
 "nbformat": 4,
 "nbformat_minor": 5
}
